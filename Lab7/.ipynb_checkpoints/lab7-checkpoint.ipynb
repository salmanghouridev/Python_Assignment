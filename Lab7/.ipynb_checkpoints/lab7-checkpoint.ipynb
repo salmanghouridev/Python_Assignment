{
 "cells": [
  {
   "cell_type": "code",
   "execution_count": 1,
   "id": "627a78bd-8e3e-4683-ad77-4c3afeca37d0",
   "metadata": {},
   "outputs": [
    {
     "name": "stdout",
     "output_type": "stream",
     "text": [
      "Hello\n"
     ]
    }
   ],
   "source": [
    "print(\"Hello\")"
   ]
  },
  {
   "cell_type": "code",
   "execution_count": 5,
   "id": "51e96cd4-4238-478d-9eef-db0c69f818a8",
   "metadata": {},
   "outputs": [
    {
     "name": "stdout",
     "output_type": "stream",
     "text": [
      "a + b = 8\n",
      "a - b = 2\n",
      "a * b = 15\n",
      "a / b = 1.6666666666666667\n",
      "a % b = 2\n"
     ]
    }
   ],
   "source": [
    "# Salman Ghouri-2020-061-BSCS\n",
    "a=5;\n",
    "b=3;\n",
    "# + Operator\n",
    "plus=a+b;\n",
    "# - Operator\n",
    "minus=a-b;\n",
    "# * Operator\n",
    "multiply=a*b;\n",
    "# / Operator\n",
    "divide=a/b;\n",
    "#  Modulus\n",
    "modulus=a%b;\n",
    "print (\"a + b =\" , plus);\n",
    "print (\"a - b =\" , minus);\n",
    "print (\"a * b =\" , multiply);\n",
    "print (\"a / b =\" , divide);\n",
    "print (\"a % b =\" , modulus);"
   ]
  },
  {
   "cell_type": "code",
   "execution_count": 6,
   "id": "b54ca3eb-01e5-4544-b791-9b3472ed5adf",
   "metadata": {},
   "outputs": [
    {
     "name": "stdout",
     "output_type": "stream",
     "text": [
      "IS Operator Program : a is b\n",
      "False\n",
      "salman is not masharib\n"
     ]
    }
   ],
   "source": [
    "# Salman Ghouri-2020-061-BSCS\n",
    "print(\"IS Operator Program : a is b\")\n",
    "a=\"salman\";\n",
    "b=\"masharib\";\n",
    "c=a is b;\n",
    "print (c);\n",
    "if(c == False):\n",
    "    print(\"salman is not masharib\")\n",
    "else:\n",
    "    print(\"none of these\")"
   ]
  },
  {
   "cell_type": "code",
   "execution_count": 7,
   "id": "62693fa7-86dd-4bba-bdd3-4f17f5d7fab4",
   "metadata": {},
   "outputs": [
    {
     "name": "stdout",
     "output_type": "stream",
     "text": [
      "X > Y Operator Program : a > b\n"
     ]
    },
    {
     "name": "stdin",
     "output_type": "stream",
     "text": [
      "Enter Value of a:  12\n",
      "Enter Value of b:  15\n"
     ]
    },
    {
     "name": "stdout",
     "output_type": "stream",
     "text": [
      "a is less then b\n"
     ]
    }
   ],
   "source": [
    "# Salman Ghouri-2020-061-BSCS\n",
    "print(\"X > Y Operator Program : a > b\")\n",
    "a=input(\"Enter Value of a: \")\n",
    "b=input(\"Enter Value of b: \")\n",
    "if(a > b):\n",
    "    print(\"a is greater than b\")\n",
    "elif(a < b):\n",
    "    print(\"a is less then b\")\n",
    "elif(a >= b):\n",
    "    print(\"a is greater than or equal to b\")\n",
    "elif(a <= b):\n",
    "    print(\"a  is less than or equal to  b\")\n",
    "elif(a !=  b):\n",
    "    print(\"a  is less than or equal to  b\")\n",
    "elif(a == b):\n",
    "    print(\"a  is less than or equal to  b\")\n",
    "\n",
    "\n"
   ]
  },
  {
   "cell_type": "code",
   "execution_count": 8,
   "id": "2dcabc49-4463-4830-baf4-c3731d8bb841",
   "metadata": {},
   "outputs": [
    {
     "name": "stdout",
     "output_type": "stream",
     "text": [
      "GCD(Gratest Common Divisor)\n"
     ]
    },
    {
     "name": "stdin",
     "output_type": "stream",
     "text": [
      "Enter Value of a:  24\n",
      "Enter Value of b:  48\n"
     ]
    },
    {
     "name": "stdout",
     "output_type": "stream",
     "text": [
      "The GCD of  24 and 48 is 24\n"
     ]
    }
   ],
   "source": [
    "# Salman Ghouri-2020-061-BSCS\n",
    "print(\"GCD(Gratest Common Divisor)\")\n",
    "import math\n",
    "a=input(\"Enter Value of a: \")\n",
    "b=input(\"Enter Value of b: \")\n",
    "\n",
    "gcd = math.gcd(int(a),int(b))\n",
    "print(\"The GCD of \",a, \"and\", b, \"is\", gcd)"
   ]
  },
  {
   "cell_type": "code",
   "execution_count": 13,
   "id": "1a1a6bf8-a77f-4ed5-85f1-b0dec80f2e03",
   "metadata": {},
   "outputs": [
    {
     "name": "stdout",
     "output_type": "stream",
     "text": [
      "ASCII Code of A,B,C\n",
      "The ASCII Code of 'A','B','C' is : 65 66 67\n"
     ]
    }
   ],
   "source": [
    "# Salman Ghouri-2020-061-BSCS\n",
    "print(\"ASCII Code of A,B,C\")\n",
    "import math\n",
    "a='A'\n",
    "b='B'\n",
    "c='C'\n",
    "print(\"The ASCII Code of 'A','B','C' is :\" ,ord(a),ord(b),ord(c))"
   ]
  },
  {
   "cell_type": "code",
   "execution_count": 16,
   "id": "27751580-45fd-476b-ad97-26927b28aff6",
   "metadata": {},
   "outputs": [
    {
     "name": "stdout",
     "output_type": "stream",
     "text": [
      "The L.C.M. is 770\n"
     ]
    }
   ],
   "source": [
    "# Salman Ghouri-2020-061-BSCS\n",
    "def lcm(x, y):\n",
    "\n",
    "   # choose the greater number\n",
    "   if x > y:\n",
    "       greater = x\n",
    "   else:\n",
    "       greater = y\n",
    "\n",
    "   while(True):\n",
    "       if((greater % x == 0) and (greater % y == 0)):\n",
    "           lcm = greater\n",
    "           break\n",
    "       greater += 1\n",
    "\n",
    "   return lcm\n",
    "a = 14\n",
    "b = 55\n",
    "print(\"The L.C.M. is\", lcm(a, b))"
   ]
  },
  {
   "cell_type": "code",
   "execution_count": 17,
   "id": "5d950c39-dedf-4fef-9dcd-0c24c9c72304",
   "metadata": {},
   "outputs": [
    {
     "name": "stdout",
     "output_type": "stream",
     "text": [
      "Even & ODD Functions\n"
     ]
    },
    {
     "name": "stdin",
     "output_type": "stream",
     "text": [
      "Enter number 12\n"
     ]
    },
    {
     "name": "stdout",
     "output_type": "stream",
     "text": [
      "The num is even\n"
     ]
    }
   ],
   "source": [
    "# Salman Ghouri-2020-061-BSCS\n",
    "print(\"Even & ODD Functions\")\n",
    "num = int (input (\"Enter number\"))\n",
    "\n",
    "if (num % 2) == 0:\n",
    "    print (\"The num is even\")\n",
    "\n",
    "else:\n",
    "    print (\"The provided num is odd\")"
   ]
  },
  {
   "cell_type": "code",
   "execution_count": 19,
   "id": "1246b5c4-a387-4784-ad1a-6804ee7e1939",
   "metadata": {},
   "outputs": [
    {
     "name": "stdout",
     "output_type": "stream",
     "text": [
      "Arithmetic mean of any three numbers.\n",
      "34.666666666666664\n"
     ]
    }
   ],
   "source": [
    "# Salman Ghouri-2020-061-BSCS\n",
    "print(\"Arithmetic mean of any three numbers.\")\n",
    "X=15\n",
    "Y=22\n",
    "Z=67\n",
    "\n",
    "MEAN=(X+Y+Z)/3\n",
    "print(MEAN)"
   ]
  },
  {
   "cell_type": "code",
   "execution_count": null,
   "id": "8cc25b72-2bdc-432b-bc34-f09434bff671",
   "metadata": {},
   "outputs": [],
   "source": []
  }
 ],
 "metadata": {
  "kernelspec": {
   "display_name": "Python 3 (ipykernel)",
   "language": "python",
   "name": "python3"
  },
  "language_info": {
   "codemirror_mode": {
    "name": "ipython",
    "version": 3
   },
   "file_extension": ".py",
   "mimetype": "text/x-python",
   "name": "python",
   "nbconvert_exporter": "python",
   "pygments_lexer": "ipython3",
   "version": "3.10.4"
  }
 },
 "nbformat": 4,
 "nbformat_minor": 5
}
