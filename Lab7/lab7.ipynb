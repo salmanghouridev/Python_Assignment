{
 "cells": [
  {
   "cell_type": "code",
   "execution_count": 1,
   "id": "627a78bd-8e3e-4683-ad77-4c3afeca37d0",
   "metadata": {},
   "outputs": [
    {
     "name": "stdout",
     "output_type": "stream",
     "text": [
      "Hello\n"
     ]
    }
   ],
   "source": [
    "print(\"Hello\")"
   ]
  },
  {
   "cell_type": "code",
   "execution_count": 5,
   "id": "51e96cd4-4238-478d-9eef-db0c69f818a8",
   "metadata": {},
   "outputs": [
    {
     "name": "stdout",
     "output_type": "stream",
     "text": [
      "a + b = 8\n",
      "a - b = 2\n",
      "a * b = 15\n",
      "a / b = 1.6666666666666667\n",
      "a % b = 2\n"
     ]
    }
   ],
   "source": [
    "# Salman Ghouri-2020-061-BSCS\n",
    "a=5;\n",
    "b=3;\n",
    "# + Operator\n",
    "plus=a+b;\n",
    "# - Operator\n",
    "minus=a-b;\n",
    "# * Operator\n",
    "multiply=a*b;\n",
    "# / Operator\n",
    "divide=a/b;\n",
    "#  Modulus\n",
    "modulus=a%b;\n",
    "print (\"a + b =\" , plus);\n",
    "print (\"a - b =\" , minus);\n",
    "print (\"a * b =\" , multiply);\n",
    "print (\"a / b =\" , divide);\n",
    "print (\"a % b =\" , modulus);"
   ]
  },
  {
   "cell_type": "code",
   "execution_count": 6,
   "id": "b54ca3eb-01e5-4544-b791-9b3472ed5adf",
   "metadata": {},
   "outputs": [
    {
     "name": "stdout",
     "output_type": "stream",
     "text": [
      "IS Operator Program : a is b\n",
      "False\n",
      "salman is not masharib\n"
     ]
    }
   ],
   "source": [
    "# Salman Ghouri-2020-061-BSCS\n",
    "print(\"IS Operator Program : a is b\")\n",
    "a=\"salman\";\n",
    "b=\"masharib\";\n",
    "c=a is b;\n",
    "print (c);\n",
    "if(c == False):\n",
    "    print(\"salman is not masharib\")\n",
    "else:\n",
    "    print(\"none of these\")"
   ]
  },
  {
   "cell_type": "code",
   "execution_count": 7,
   "id": "62693fa7-86dd-4bba-bdd3-4f17f5d7fab4",
   "metadata": {},
   "outputs": [
    {
     "name": "stdout",
     "output_type": "stream",
     "text": [
      "X > Y Operator Program : a > b\n"
     ]
    },
    {
     "name": "stdin",
     "output_type": "stream",
     "text": [
      "Enter Value of a:  12\n",
      "Enter Value of b:  15\n"
     ]
    },
    {
     "name": "stdout",
     "output_type": "stream",
     "text": [
      "a is less then b\n"
     ]
    }
   ],
   "source": [
    "# Salman Ghouri-2020-061-BSCS\n",
    "print(\"X > Y Operator Program : a > b\")\n",
    "a=input(\"Enter Value of a: \")\n",
    "b=input(\"Enter Value of b: \")\n",
    "if(a > b):\n",
    "    print(\"a is greater than b\")\n",
    "elif(a < b):\n",
    "    print(\"a is less then b\")\n",
    "elif(a >= b):\n",
    "    print(\"a is greater than or equal to b\")\n",
    "elif(a <= b):\n",
    "    print(\"a  is less than or equal to  b\")\n",
    "elif(a !=  b):\n",
    "    print(\"a  is less than or equal to  b\")\n",
    "elif(a == b):\n",
    "    print(\"a  is less than or equal to  b\")\n",
    "\n",
    "\n"
   ]
  },
  {
   "cell_type": "code",
   "execution_count": 8,
   "id": "2dcabc49-4463-4830-baf4-c3731d8bb841",
   "metadata": {},
   "outputs": [
    {
     "name": "stdout",
     "output_type": "stream",
     "text": [
      "GCD(Gratest Common Divisor)\n"
     ]
    },
    {
     "name": "stdin",
     "output_type": "stream",
     "text": [
      "Enter Value of a:  24\n",
      "Enter Value of b:  48\n"
     ]
    },
    {
     "name": "stdout",
     "output_type": "stream",
     "text": [
      "The GCD of  24 and 48 is 24\n"
     ]
    }
   ],
   "source": [
    "# Salman Ghouri-2020-061-BSCS\n",
    "print(\"GCD(Gratest Common Divisor)\")\n",
    "import math\n",
    "a=input(\"Enter Value of a: \")\n",
    "b=input(\"Enter Value of b: \")\n",
    "\n",
    "gcd = math.gcd(int(a),int(b))\n",
    "print(\"The GCD of \",a, \"and\", b, \"is\", gcd)"
   ]
  },
  {
   "cell_type": "code",
   "execution_count": null,
   "id": "13fa4a7b-f556-4c08-b334-e2f1738b5166",
   "metadata": {},
   "outputs": [],
   "source": []
  }
 ],
 "metadata": {
  "kernelspec": {
   "display_name": "Python 3 (ipykernel)",
   "language": "python",
   "name": "python3"
  },
  "language_info": {
   "codemirror_mode": {
    "name": "ipython",
    "version": 3
   },
   "file_extension": ".py",
   "mimetype": "text/x-python",
   "name": "python",
   "nbconvert_exporter": "python",
   "pygments_lexer": "ipython3",
   "version": "3.10.4"
  }
 },
 "nbformat": 4,
 "nbformat_minor": 5
}
