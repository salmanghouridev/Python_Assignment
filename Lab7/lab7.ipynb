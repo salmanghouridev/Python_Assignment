{
 "cells": [
  {
   "cell_type": "code",
   "execution_count": 1,
   "id": "627a78bd-8e3e-4683-ad77-4c3afeca37d0",
   "metadata": {},
   "outputs": [
    {
     "name": "stdout",
     "output_type": "stream",
     "text": [
      "Hello\n"
     ]
    }
   ],
   "source": [
    "print(\"Hello\")"
   ]
  },
  {
   "cell_type": "code",
   "execution_count": 5,
   "id": "51e96cd4-4238-478d-9eef-db0c69f818a8",
   "metadata": {},
   "outputs": [
    {
     "name": "stdout",
     "output_type": "stream",
     "text": [
      "a + b = 8\n",
      "a - b = 2\n",
      "a * b = 15\n",
      "a / b = 1.6666666666666667\n",
      "a % b = 2\n"
     ]
    }
   ],
   "source": [
    "# Salman Ghouri-2020-061-BSCS\n",
    "a=5;\n",
    "b=3;\n",
    "# + Operator\n",
    "plus=a+b;\n",
    "# - Operator\n",
    "minus=a-b;\n",
    "# * Operator\n",
    "multiply=a*b;\n",
    "# / Operator\n",
    "divide=a/b;\n",
    "#  Modulus\n",
    "modulus=a%b;\n",
    "print (\"a + b =\" , plus);\n",
    "print (\"a - b =\" , minus);\n",
    "print (\"a * b =\" , multiply);\n",
    "print (\"a / b =\" , divide);\n",
    "print (\"a % b =\" , modulus);"
   ]
  },
  {
   "cell_type": "code",
   "execution_count": 6,
   "id": "b54ca3eb-01e5-4544-b791-9b3472ed5adf",
   "metadata": {},
   "outputs": [
    {
     "name": "stdout",
     "output_type": "stream",
     "text": [
      "IS Operator Program : a is b\n",
      "False\n",
      "salman is not masharib\n"
     ]
    }
   ],
   "source": [
    "# Salman Ghouri-2020-061-BSCS\n",
    "print(\"IS Operator Program : a is b\")\n",
    "a=\"salman\";\n",
    "b=\"masharib\";\n",
    "c=a is b;\n",
    "print (c);\n",
    "if(c == False):\n",
    "    print(\"salman is not masharib\")\n",
    "else:\n",
    "    print(\"none of these\")"
   ]
  },
  {
   "cell_type": "code",
   "execution_count": 7,
   "id": "62693fa7-86dd-4bba-bdd3-4f17f5d7fab4",
   "metadata": {},
   "outputs": [
    {
     "name": "stdout",
     "output_type": "stream",
     "text": [
      "X > Y Operator Program : a > b\n"
     ]
    },
    {
     "name": "stdin",
     "output_type": "stream",
     "text": [
      "Enter Value of a:  12\n",
      "Enter Value of b:  15\n"
     ]
    },
    {
     "name": "stdout",
     "output_type": "stream",
     "text": [
      "a is less then b\n"
     ]
    }
   ],
   "source": [
    "# Salman Ghouri-2020-061-BSCS\n",
    "print(\"X > Y Operator Program : a > b\")\n",
    "a=input(\"Enter Value of a: \")\n",
    "b=input(\"Enter Value of b: \")\n",
    "if(a > b):\n",
    "    print(\"a is greater than b\")\n",
    "elif(a < b):\n",
    "    print(\"a is less then b\")\n",
    "elif(a >= b):\n",
    "    print(\"a is greater than or equal to b\")\n",
    "elif(a <= b):\n",
    "    print(\"a  is less than or equal to  b\")\n",
    "elif(a !=  b):\n",
    "    print(\"a  is less than or equal to  b\")\n",
    "elif(a == b):\n",
    "    print(\"a  is less than or equal to  b\")\n",
    "\n",
    "\n"
   ]
  },
  {
   "cell_type": "code",
   "execution_count": 8,
   "id": "2dcabc49-4463-4830-baf4-c3731d8bb841",
   "metadata": {},
   "outputs": [
    {
     "name": "stdout",
     "output_type": "stream",
     "text": [
      "GCD(Gratest Common Divisor)\n"
     ]
    },
    {
     "name": "stdin",
     "output_type": "stream",
     "text": [
      "Enter Value of a:  24\n",
      "Enter Value of b:  48\n"
     ]
    },
    {
     "name": "stdout",
     "output_type": "stream",
     "text": [
      "The GCD of  24 and 48 is 24\n"
     ]
    }
   ],
   "source": [
    "# Salman Ghouri-2020-061-BSCS\n",
    "print(\"GCD(Gratest Common Divisor)\")\n",
    "import math\n",
    "a=input(\"Enter Value of a: \")\n",
    "b=input(\"Enter Value of b: \")\n",
    "\n",
    "gcd = math.gcd(int(a),int(b))\n",
    "print(\"The GCD of \",a, \"and\", b, \"is\", gcd)"
   ]
  },
  {
   "cell_type": "code",
   "execution_count": 13,
   "id": "1a1a6bf8-a77f-4ed5-85f1-b0dec80f2e03",
   "metadata": {},
   "outputs": [
    {
     "name": "stdout",
     "output_type": "stream",
     "text": [
      "ASCII Code of A,B,C\n",
      "The ASCII Code of 'A','B','C' is : 65 66 67\n"
     ]
    }
   ],
   "source": [
    "# Salman Ghouri-2020-061-BSCS\n",
    "print(\"ASCII Code of A,B,C\")\n",
    "import math\n",
    "a='A'\n",
    "b='B'\n",
    "c='C'\n",
    "print(\"The ASCII Code of 'A','B','C' is :\" ,ord(a),ord(b),ord(c))"
   ]
  },
  {
   "cell_type": "code",
   "execution_count": 16,
   "id": "27751580-45fd-476b-ad97-26927b28aff6",
   "metadata": {},
   "outputs": [
    {
     "name": "stdout",
     "output_type": "stream",
     "text": [
      "The L.C.M. is 770\n"
     ]
    }
   ],
   "source": [
    "# Salman Ghouri-2020-061-BSCS\n",
    "def lcm(x, y):\n",
    "\n",
    "   # choose the greater number\n",
    "   if x > y:\n",
    "       greater = x\n",
    "   else:\n",
    "       greater = y\n",
    "\n",
    "   while(True):\n",
    "       if((greater % x == 0) and (greater % y == 0)):\n",
    "           lcm = greater\n",
    "           break\n",
    "       greater += 1\n",
    "\n",
    "   return lcm\n",
    "a = 14\n",
    "b = 55\n",
    "print(\"The L.C.M. is\", lcm(a, b))"
   ]
  },
  {
   "cell_type": "code",
   "execution_count": 17,
   "id": "5d950c39-dedf-4fef-9dcd-0c24c9c72304",
   "metadata": {},
   "outputs": [
    {
     "name": "stdout",
     "output_type": "stream",
     "text": [
      "Even & ODD Functions\n"
     ]
    },
    {
     "name": "stdin",
     "output_type": "stream",
     "text": [
      "Enter number 12\n"
     ]
    },
    {
     "name": "stdout",
     "output_type": "stream",
     "text": [
      "The num is even\n"
     ]
    }
   ],
   "source": [
    "# Salman Ghouri-2020-061-BSCS\n",
    "print(\"Even & ODD Functions\")\n",
    "num = int (input (\"Enter number\"))\n",
    "\n",
    "if (num % 2) == 0:\n",
    "    print (\"The num is even\")\n",
    "\n",
    "else:\n",
    "    print (\"The provided num is odd\")"
   ]
  },
  {
   "cell_type": "code",
   "execution_count": 19,
   "id": "1246b5c4-a387-4784-ad1a-6804ee7e1939",
   "metadata": {},
   "outputs": [
    {
     "name": "stdout",
     "output_type": "stream",
     "text": [
      "Arithmetic mean of any three numbers.\n",
      "34.666666666666664\n"
     ]
    }
   ],
   "source": [
    "# Salman Ghouri-2020-061-BSCS\n",
    "print(\"Arithmetic mean of any three numbers.\")\n",
    "X=15\n",
    "Y=22\n",
    "Z=67\n",
    "\n",
    "MEAN=(X+Y+Z)/3\n",
    "print(MEAN)"
   ]
  },
  {
   "cell_type": "code",
   "execution_count": 20,
   "id": "8cc25b72-2bdc-432b-bc34-f09434bff671",
   "metadata": {},
   "outputs": [
    {
     "name": "stdout",
     "output_type": "stream",
     "text": [
      "power of a number\n"
     ]
    },
    {
     "name": "stdin",
     "output_type": "stream",
     "text": [
      "Enter Value of a:  2\n",
      "Enter Value of a:  6\n"
     ]
    },
    {
     "name": "stdout",
     "output_type": "stream",
     "text": [
      "The powerofcode of  2 ^ 6 is 64\n"
     ]
    }
   ],
   "source": [
    "# Salman Ghouri-2020-061-BSCS\n",
    "print(\"power of a number\")\n",
    "import math\n",
    "a=input(\"Enter Value of a: \")\n",
    "n=input(\"Enter Value of a: \")\n",
    "powerofcode = int(a)**int(n)\n",
    "print(\"The powerofcode of \",a, \"^\", n, \"is\", powerofcode)"
   ]
  },
  {
   "cell_type": "code",
   "execution_count": 21,
   "id": "541c6346-f94a-42e2-9309-a028f52a3c5a",
   "metadata": {},
   "outputs": [
    {
     "name": "stdin",
     "output_type": "stream",
     "text": [
      "Enter a number:  12\n"
     ]
    },
    {
     "name": "stdout",
     "output_type": "stream",
     "text": [
      "The factorial of 12 is 479001600\n"
     ]
    }
   ],
   "source": [
    "# Salman Ghouri-2020-061-BSCS\n",
    "a = int(input(\"Enter a number: \"))    \n",
    "factorial = 1    \n",
    "if a < 0:    \n",
    "   print(\"Negative number not a factorial\")    \n",
    "elif a == 0:    \n",
    "   print(\"The factorial of 0 is 1\")    \n",
    "else:    \n",
    "   for i in range(1,a + 1):    \n",
    "       factorial = factorial*i    \n",
    "   print(\"The factorial of\",a,\"is\",factorial) "
   ]
  },
  {
   "cell_type": "code",
   "execution_count": null,
   "id": "69a35fa5-9575-4077-a193-383abbc04f32",
   "metadata": {},
   "outputs": [
    {
     "name": "stdout",
     "output_type": "stream",
     "text": [
      "Select operation.\n",
      "1.Add\n",
      "2.Subtract\n",
      "3.Multiply\n",
      "4.Divide\n",
      "5.Power\n",
      "6.Mod\n",
      "7.GCD\n"
     ]
    },
    {
     "name": "stdin",
     "output_type": "stream",
     "text": [
      "Enter choice(1/2/3/4/5/6/7):  1\n",
      "Enter first number:  15\n",
      "Enter second number:  68\n"
     ]
    },
    {
     "name": "stdout",
     "output_type": "stream",
     "text": [
      "15.0 + 68.0 = 83.0\n"
     ]
    },
    {
     "name": "stdin",
     "output_type": "stream",
     "text": [
      "Let's do next calculation? (yes/no):  y\n",
      "Enter choice(1/2/3/4/5/6/7):  2\n",
      "Enter first number:  15\n",
      "Enter second number:  68\n"
     ]
    },
    {
     "name": "stdout",
     "output_type": "stream",
     "text": [
      "15.0 - 68.0 = -53.0\n"
     ]
    },
    {
     "name": "stdin",
     "output_type": "stream",
     "text": [
      "Let's do next calculation? (yes/no):  y\n",
      "Enter choice(1/2/3/4/5/6/7):  3\n",
      "Enter first number:  15\n",
      "Enter second number:  69\n"
     ]
    },
    {
     "name": "stdout",
     "output_type": "stream",
     "text": [
      "15.0 * 69.0 = 1035.0\n"
     ]
    },
    {
     "name": "stdin",
     "output_type": "stream",
     "text": [
      "Let's do next calculation? (yes/no):  y\n",
      "Enter choice(1/2/3/4/5/6/7):  4\n",
      "Enter first number:  35\n",
      "Enter second number:  15\n"
     ]
    },
    {
     "name": "stdout",
     "output_type": "stream",
     "text": [
      "35.0 / 15.0 = 2.3333333333333335\n"
     ]
    },
    {
     "name": "stdin",
     "output_type": "stream",
     "text": [
      "Let's do next calculation? (yes/no):  y\n",
      "Enter choice(1/2/3/4/5/6/7):  5\n",
      "Enter first number:  15\n",
      "Enter second number:  45\n"
     ]
    },
    {
     "name": "stdout",
     "output_type": "stream",
     "text": [
      "15.0 ^ 45.0 = 8.396661731213822e+52\n"
     ]
    },
    {
     "name": "stdin",
     "output_type": "stream",
     "text": [
      "Let's do next calculation? (yes/no):  y\n",
      "Enter choice(1/2/3/4/5/6/7):  6\n",
      "Enter first number:  salman\n"
     ]
    },
    {
     "name": "stdout",
     "output_type": "stream",
     "text": [
      "Invalid input. Please enter a number.\n"
     ]
    },
    {
     "name": "stdin",
     "output_type": "stream",
     "text": [
      "Enter choice(1/2/3/4/5/6/7):  6\n",
      "Enter first number:  2\n",
      "Enter second number:  7\n"
     ]
    },
    {
     "name": "stdout",
     "output_type": "stream",
     "text": [
      "2.0 % 7.0 = 2.0\n"
     ]
    },
    {
     "name": "stdin",
     "output_type": "stream",
     "text": [
      "Let's do next calculation? (yes/no):  y\n"
     ]
    }
   ],
   "source": [
    "# Salman Ghouri-2020-061-BSCS\n",
    "#Adds two numbers\n",
    "def add(x, y):\n",
    "    return x + y\n",
    "\n",
    "# Subtracts two numbers\n",
    "def subtract(x, y):\n",
    "    return x - y\n",
    "\n",
    "# Multiplies two numbers\n",
    "def multiply(x, y):\n",
    "    return x * y\n",
    "\n",
    "# Divides two numbers\n",
    "def divide(x, y):\n",
    "    return x / y\n",
    "# Mod two numbers\n",
    "def mod(x, y):\n",
    "    return x % y\n",
    "# Hcfnaive two numbers\n",
    "def hcfnaive(x, y):\n",
    "\tif(y == 0):\n",
    "\t\treturn abs(x)\n",
    "\telse:\n",
    "\t\treturn hcfnaive(y, x % y)\n",
    "\n",
    "\n",
    "\n",
    "print(\"Select operation.\")\n",
    "print(\"1.Add\")\n",
    "print(\"2.Subtract\")\n",
    "print(\"3.Multiply\")\n",
    "print(\"4.Divide\")\n",
    "print(\"5.Power\")\n",
    "print(\"6.Mod\")\n",
    "print(\"7.GCD\")\n",
    "\n",
    "while True:\n",
    "    # take input from the user\n",
    "    choice = input(\"Enter choice(1/2/3/4/5/6/7): \")\n",
    "\n",
    "    # check if choice is one of the four options\n",
    "    if choice in ('1', '2', '3', '4', '5', '6', '7'):\n",
    "        try:\n",
    "            num1 = float(input(\"Enter first number: \"))\n",
    "            num2 = float(input(\"Enter second number: \"))\n",
    "        except ValueError:\n",
    "            print(\"Invalid input. Please enter a number.\")\n",
    "            continue\n",
    "\n",
    "        if choice == '1':\n",
    "            print(num1, \"+\", num2, \"=\", add(num1, num2))\n",
    "\n",
    "        elif choice == '2':\n",
    "            print(num1, \"-\", num2, \"=\", subtract(num1, num2))\n",
    "\n",
    "        elif choice == '3':\n",
    "            print(num1, \"*\", num2, \"=\", multiply(num1, num2))\n",
    "\n",
    "        elif choice == '4':\n",
    "            print(num1, \"/\", num2, \"=\", divide(num1, num2))\n",
    "        elif choice == '5':\n",
    "            print(num1, \"^\", num2, \"=\", pow(num1, num2))\n",
    "        elif choice == '6':\n",
    "            print(num1, \"%\", num2, \"=\", mod(num1, num2))\n",
    "        elif choice == '7':\n",
    "            print(\"The GCD of \",num1, \" and \",num2, \" =\", hcfnaive(num1, num2))\n",
    "        \n",
    "        # check if user wants another calculation\n",
    "        # break the while loop if answer is no\n",
    "        next_calculation = input(\"Let's do next calculation? (yes/no): \")\n",
    "        if next_calculation == \"no\":\n",
    "          break\n",
    "    else:\n",
    "        print(\"Invalid Input\")"
   ]
  },
  {
   "cell_type": "code",
   "execution_count": null,
   "id": "c88b4765-bbab-4b54-ab7c-4409cfecec07",
   "metadata": {},
   "outputs": [],
   "source": []
  }
 ],
 "metadata": {
  "kernelspec": {
   "display_name": "Python 3 (ipykernel)",
   "language": "python",
   "name": "python3"
  },
  "language_info": {
   "codemirror_mode": {
    "name": "ipython",
    "version": 3
   },
   "file_extension": ".py",
   "mimetype": "text/x-python",
   "name": "python",
   "nbconvert_exporter": "python",
   "pygments_lexer": "ipython3",
   "version": "3.10.4"
  }
 },
 "nbformat": 4,
 "nbformat_minor": 5
}
