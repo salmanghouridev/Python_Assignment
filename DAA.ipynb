{
 "cells": [
  {
   "cell_type": "code",
   "execution_count": 1,
   "id": "e28b716b-2753-4234-ad95-327addad7b63",
   "metadata": {},
   "outputs": [],
   "source": [
    "import pandas as pd"
   ]
  },
  {
   "cell_type": "code",
   "execution_count": 2,
   "id": "9c6a1699-34d4-4bf7-b25d-92f3791a5a03",
   "metadata": {},
   "outputs": [
    {
     "data": {
      "text/html": [
       "<div>\n",
       "<style scoped>\n",
       "    .dataframe tbody tr th:only-of-type {\n",
       "        vertical-align: middle;\n",
       "    }\n",
       "\n",
       "    .dataframe tbody tr th {\n",
       "        vertical-align: top;\n",
       "    }\n",
       "\n",
       "    .dataframe thead th {\n",
       "        text-align: right;\n",
       "    }\n",
       "</style>\n",
       "<table border=\"1\" class=\"dataframe\">\n",
       "  <thead>\n",
       "    <tr style=\"text-align: right;\">\n",
       "      <th></th>\n",
       "      <th>index</th>\n",
       "      <th>Name</th>\n",
       "      <th>Location</th>\n",
       "      <th>Rank</th>\n",
       "      <th>Description</th>\n",
       "      <th>Tuition and fees</th>\n",
       "      <th>In-state</th>\n",
       "      <th>Undergrad Enrollment</th>\n",
       "    </tr>\n",
       "  </thead>\n",
       "  <tbody>\n",
       "    <tr>\n",
       "      <th>0</th>\n",
       "      <td>0</td>\n",
       "      <td>Princeton University</td>\n",
       "      <td>Princeton, NJ</td>\n",
       "      <td>1</td>\n",
       "      <td>Princeton, the fourth-oldest college in the Un...</td>\n",
       "      <td>$45,320</td>\n",
       "      <td>NaN</td>\n",
       "      <td>5,402</td>\n",
       "    </tr>\n",
       "    <tr>\n",
       "      <th>1</th>\n",
       "      <td>1</td>\n",
       "      <td>Harvard University</td>\n",
       "      <td>Cambridge, MA</td>\n",
       "      <td>2</td>\n",
       "      <td>Harvard is located in Cambridge, Massachusetts...</td>\n",
       "      <td>$47,074</td>\n",
       "      <td>NaN</td>\n",
       "      <td>6,699</td>\n",
       "    </tr>\n",
       "    <tr>\n",
       "      <th>2</th>\n",
       "      <td>2</td>\n",
       "      <td>University of Chicago</td>\n",
       "      <td>Chicago, IL</td>\n",
       "      <td>3</td>\n",
       "      <td>The University of Chicago, situated in Chicago...</td>\n",
       "      <td>$52,491</td>\n",
       "      <td>NaN</td>\n",
       "      <td>5,844</td>\n",
       "    </tr>\n",
       "    <tr>\n",
       "      <th>3</th>\n",
       "      <td>3</td>\n",
       "      <td>Yale University</td>\n",
       "      <td>New Haven, CT</td>\n",
       "      <td>3</td>\n",
       "      <td>Yale University, located in New Haven, Connect...</td>\n",
       "      <td>$49,480</td>\n",
       "      <td>NaN</td>\n",
       "      <td>5,532</td>\n",
       "    </tr>\n",
       "    <tr>\n",
       "      <th>4</th>\n",
       "      <td>4</td>\n",
       "      <td>Columbia University</td>\n",
       "      <td>New York, NY</td>\n",
       "      <td>5</td>\n",
       "      <td>Columbia University, located in Manhattan's Mo...</td>\n",
       "      <td>$55,056</td>\n",
       "      <td>NaN</td>\n",
       "      <td>6,102</td>\n",
       "    </tr>\n",
       "    <tr>\n",
       "      <th>5</th>\n",
       "      <td>5</td>\n",
       "      <td>Stanford University</td>\n",
       "      <td>Stanford, CA</td>\n",
       "      <td>5</td>\n",
       "      <td>Stanford University's pristine campus is locat...</td>\n",
       "      <td>$47,940</td>\n",
       "      <td>NaN</td>\n",
       "      <td>6,999</td>\n",
       "    </tr>\n",
       "    <tr>\n",
       "      <th>6</th>\n",
       "      <td>6</td>\n",
       "      <td>Massachusetts Institute of Technology</td>\n",
       "      <td>Cambridge, MA</td>\n",
       "      <td>7</td>\n",
       "      <td>MIT is located in Cambridge, Massachusetts, ac...</td>\n",
       "      <td>$48,452</td>\n",
       "      <td>NaN</td>\n",
       "      <td>4,527</td>\n",
       "    </tr>\n",
       "    <tr>\n",
       "      <th>7</th>\n",
       "      <td>7</td>\n",
       "      <td>Duke University</td>\n",
       "      <td>Durham, NC</td>\n",
       "      <td>8</td>\n",
       "      <td>Durham, North Carolina, which surrounds Duke's...</td>\n",
       "      <td>$51,265</td>\n",
       "      <td>NaN</td>\n",
       "      <td>6,639</td>\n",
       "    </tr>\n",
       "    <tr>\n",
       "      <th>8</th>\n",
       "      <td>8</td>\n",
       "      <td>University of Pennsylvania</td>\n",
       "      <td>Philadelphia, PA</td>\n",
       "      <td>8</td>\n",
       "      <td>The University of Pennsylvania, located in Phi...</td>\n",
       "      <td>$51,464</td>\n",
       "      <td>NaN</td>\n",
       "      <td>9,726</td>\n",
       "    </tr>\n",
       "    <tr>\n",
       "      <th>9</th>\n",
       "      <td>9</td>\n",
       "      <td>Johns Hopkins University</td>\n",
       "      <td>Baltimore, MD</td>\n",
       "      <td>10</td>\n",
       "      <td>Johns Hopkins University has four main campuse...</td>\n",
       "      <td>$50,410</td>\n",
       "      <td>NaN</td>\n",
       "      <td>6,524</td>\n",
       "    </tr>\n",
       "  </tbody>\n",
       "</table>\n",
       "</div>"
      ],
      "text/plain": [
       "   index                                   Name          Location  Rank  \\\n",
       "0      0                   Princeton University     Princeton, NJ     1   \n",
       "1      1                     Harvard University     Cambridge, MA     2   \n",
       "2      2                  University of Chicago       Chicago, IL     3   \n",
       "3      3                        Yale University     New Haven, CT     3   \n",
       "4      4                    Columbia University      New York, NY     5   \n",
       "5      5                    Stanford University      Stanford, CA     5   \n",
       "6      6  Massachusetts Institute of Technology     Cambridge, MA     7   \n",
       "7      7                        Duke University        Durham, NC     8   \n",
       "8      8             University of Pennsylvania  Philadelphia, PA     8   \n",
       "9      9               Johns Hopkins University     Baltimore, MD    10   \n",
       "\n",
       "                                         Description Tuition and fees  \\\n",
       "0  Princeton, the fourth-oldest college in the Un...         $45,320    \n",
       "1  Harvard is located in Cambridge, Massachusetts...         $47,074    \n",
       "2  The University of Chicago, situated in Chicago...         $52,491    \n",
       "3  Yale University, located in New Haven, Connect...         $49,480    \n",
       "4  Columbia University, located in Manhattan's Mo...         $55,056    \n",
       "5  Stanford University's pristine campus is locat...         $47,940    \n",
       "6  MIT is located in Cambridge, Massachusetts, ac...         $48,452    \n",
       "7  Durham, North Carolina, which surrounds Duke's...         $51,265    \n",
       "8  The University of Pennsylvania, located in Phi...         $51,464    \n",
       "9  Johns Hopkins University has four main campuse...         $50,410    \n",
       "\n",
       "  In-state Undergrad Enrollment  \n",
       "0      NaN                5,402  \n",
       "1      NaN                6,699  \n",
       "2      NaN                5,844  \n",
       "3      NaN                5,532  \n",
       "4      NaN                6,102  \n",
       "5      NaN                6,999  \n",
       "6      NaN                4,527  \n",
       "7      NaN                6,639  \n",
       "8      NaN                9,726  \n",
       "9      NaN                6,524  "
      ]
     },
     "execution_count": 2,
     "metadata": {},
     "output_type": "execute_result"
    }
   ],
   "source": [
    "readfile = pd.read_csv(\"National_Universities_Rankings.csv\")\n",
    "readfile.head(10)"
   ]
  },
  {
   "cell_type": "code",
   "execution_count": 5,
   "id": "d642ac2f-0eb3-400e-af87-96f0c9f1d1b2",
   "metadata": {},
   "outputs": [
    {
     "name": "stdout",
     "output_type": "stream",
     "text": [
      "<class 'pandas.core.frame.DataFrame'>\n",
      "RangeIndex: 231 entries, 0 to 230\n",
      "Data columns (total 8 columns):\n",
      " #   Column                Non-Null Count  Dtype \n",
      "---  ------                --------------  ----- \n",
      " 0   index                 231 non-null    int64 \n",
      " 1   Name                  231 non-null    object\n",
      " 2   Location              231 non-null    object\n",
      " 3   Rank                  231 non-null    int64 \n",
      " 4   Description           231 non-null    object\n",
      " 5   Tuition and fees      231 non-null    object\n",
      " 6   In-state              133 non-null    object\n",
      " 7   Undergrad Enrollment  231 non-null    object\n",
      "dtypes: int64(2), object(6)\n",
      "memory usage: 14.6+ KB\n"
     ]
    }
   ],
   "source": [
    "readfile.info()"
   ]
  },
  {
   "cell_type": "code",
   "execution_count": 6,
   "id": "ff4f870e-cbc0-461f-b04e-26444d942caa",
   "metadata": {},
   "outputs": [
    {
     "data": {
      "text/html": [
       "<div>\n",
       "<style scoped>\n",
       "    .dataframe tbody tr th:only-of-type {\n",
       "        vertical-align: middle;\n",
       "    }\n",
       "\n",
       "    .dataframe tbody tr th {\n",
       "        vertical-align: top;\n",
       "    }\n",
       "\n",
       "    .dataframe thead th {\n",
       "        text-align: right;\n",
       "    }\n",
       "</style>\n",
       "<table border=\"1\" class=\"dataframe\">\n",
       "  <thead>\n",
       "    <tr style=\"text-align: right;\">\n",
       "      <th></th>\n",
       "      <th>index</th>\n",
       "      <th>Rank</th>\n",
       "    </tr>\n",
       "  </thead>\n",
       "  <tbody>\n",
       "    <tr>\n",
       "      <th>count</th>\n",
       "      <td>231.000000</td>\n",
       "      <td>231.000000</td>\n",
       "    </tr>\n",
       "    <tr>\n",
       "      <th>mean</th>\n",
       "      <td>115.000000</td>\n",
       "      <td>113.982684</td>\n",
       "    </tr>\n",
       "    <tr>\n",
       "      <th>std</th>\n",
       "      <td>66.828138</td>\n",
       "      <td>65.995518</td>\n",
       "    </tr>\n",
       "    <tr>\n",
       "      <th>min</th>\n",
       "      <td>0.000000</td>\n",
       "      <td>1.000000</td>\n",
       "    </tr>\n",
       "    <tr>\n",
       "      <th>25%</th>\n",
       "      <td>57.500000</td>\n",
       "      <td>56.000000</td>\n",
       "    </tr>\n",
       "    <tr>\n",
       "      <th>50%</th>\n",
       "      <td>115.000000</td>\n",
       "      <td>111.000000</td>\n",
       "    </tr>\n",
       "    <tr>\n",
       "      <th>75%</th>\n",
       "      <td>172.500000</td>\n",
       "      <td>171.000000</td>\n",
       "    </tr>\n",
       "    <tr>\n",
       "      <th>max</th>\n",
       "      <td>230.000000</td>\n",
       "      <td>220.000000</td>\n",
       "    </tr>\n",
       "  </tbody>\n",
       "</table>\n",
       "</div>"
      ],
      "text/plain": [
       "            index        Rank\n",
       "count  231.000000  231.000000\n",
       "mean   115.000000  113.982684\n",
       "std     66.828138   65.995518\n",
       "min      0.000000    1.000000\n",
       "25%     57.500000   56.000000\n",
       "50%    115.000000  111.000000\n",
       "75%    172.500000  171.000000\n",
       "max    230.000000  220.000000"
      ]
     },
     "execution_count": 6,
     "metadata": {},
     "output_type": "execute_result"
    }
   ],
   "source": [
    "readfile.describe()"
   ]
  },
  {
   "cell_type": "code",
   "execution_count": 7,
   "id": "a4308896-eb9f-40d8-ae9d-e6def1d212a3",
   "metadata": {},
   "outputs": [
    {
     "data": {
      "text/plain": [
       "0"
      ]
     },
     "execution_count": 7,
     "metadata": {},
     "output_type": "execute_result"
    }
   ],
   "source": [
    "readfile.duplicated().sum()"
   ]
  },
  {
   "cell_type": "code",
   "execution_count": 8,
   "id": "41fee610-141c-4d8f-91b6-0c1f11cf7735",
   "metadata": {},
   "outputs": [
    {
     "data": {
      "text/plain": [
       "array(['Princeton, NJ', 'Cambridge, MA', 'Chicago, IL', 'New Haven, CT',\n",
       "       'New York, NY', 'Stanford, CA', 'Durham, NC', 'Philadelphia, PA',\n",
       "       'Baltimore, MD', 'Hanover, NH', 'Pasadena, CA', 'Evanston, IL',\n",
       "       'Providence, RI', 'Ithaca, NY', 'Houston, TX', 'Notre Dame, IN',\n",
       "       'Nashville, TN', 'St. Louis, MO', 'Atlanta, GA', 'Washington, DC',\n",
       "       'Berkeley, CA', 'Los Angeles, CA', 'Pittsburgh, PA',\n",
       "       'Charlottesville, VA', 'Medford, MA', 'Ann Arbor, MI',\n",
       "       'Winston-Salem, NC', 'Chapel Hill, NC', 'Chestnut Hill, MA',\n",
       "       'Williamsburg, VA', 'Rochester, NY', 'Waltham, MA',\n",
       "       'Cleveland, OH', 'Santa Barbara, CA', 'Boston, MA', 'Troy, NY',\n",
       "       'New Orleans, LA', 'Irvine, CA', 'Bethlehem, PA', 'Davis, CA',\n",
       "       'La Jolla, CA', 'Champaign, IL', 'Coral Gables, FL', 'Madison, WI',\n",
       "       'Malibu, CA', 'Gainesville, FL', 'Villanova, PA',\n",
       "       'University Park, PA', 'Columbus, OH', 'Seattle, WA', 'Dallas, TX',\n",
       "       'Athens, GA', 'Austin, TX', 'West Lafayette, IN', 'Syracuse, NY',\n",
       "       'Storrs, CT', 'College Park, MD', 'Worcester, MA', 'Clemson, SC',\n",
       "       'Provo, UT', 'Piscataway, NJ', 'Waco, TX', 'Hoboken, NJ',\n",
       "       'Minneapolis, MN', 'College Station, TX', 'Amherst, MA',\n",
       "       'Blacksburg, VA', 'Oxford, OH', 'Santa Cruz, CA', 'Newark, DE',\n",
       "       'Golden, CO', 'East Lansing, MI', 'Fort Worth, TX',\n",
       "       'Iowa City, IA', 'Binghamton, NY', 'Bloomington, IN',\n",
       "       'Milwaukee, WI', 'Denver, CO', 'San Diego, CA', 'Tulsa, OK',\n",
       "       'Tallahassee, FL', 'Raleigh, NC', 'Boulder, CO', 'Burlington, VT',\n",
       "       'Stony Brook, NY', 'Auburn, AL', 'Buffalo, NY', 'Tuscaloosa, AL',\n",
       "       'Eugene, OR', 'Knoxville, TN', 'Durham, NH', 'San Francisco, CA',\n",
       "       'Columbia, SC', 'Ames, IA', 'Dayton, OH', 'Columbia, MO',\n",
       "       'Lincoln, NE', 'Norman, OK', 'Stockton, CA', 'Salt Lake City, UT',\n",
       "       'Houghton, MI', 'South Orange, NJ', 'Riverside, CA',\n",
       "       'Lawrence, KS', 'St. Paul, MN', 'Tucson, AZ', 'Tempe, AZ',\n",
       "       'Potsdam, NY', 'Fort Collins, CO', 'Hempstead, NY',\n",
       "       'Lexington, KY', 'Manhattan, KS', 'Baton Rouge, LA', 'Macon, GA',\n",
       "       'Newark, NJ', 'Fayetteville, AR', 'Cincinnati, OH',\n",
       "       'University, MS', 'Fairfax, VA', 'Corvallis, OR', 'Pullman, WA',\n",
       "       'Garden City, NY', 'Athens, OH', 'Albany, NY', 'Richardson, TX',\n",
       "       'Normal, IL', 'Immaculata, PA', 'Stillwater, OK', 'Merced, CA',\n",
       "       'La Verne, CA', 'Lowell, MA', 'Birmingham, AL', 'Kingston, RI',\n",
       "       'Tampa, FL', 'La Mirada, CA', 'St Louis, MO', 'Rolla, MO',\n",
       "       'Queens, NY', 'Richmond, VA', 'Jackson, TN', 'Honolulu, HI',\n",
       "       'Melbourne, FL', 'Moscow, ID', 'Louisville, KY', 'Laramie, WY',\n",
       "       'Muncie, IN', 'Mississippi State, MS', 'Montclair, NJ',\n",
       "       'Lubbock, TX', 'Orlando, FL', 'Albuquerque, NM',\n",
       "       'Berrien Springs, MI', 'Azusa, CA', 'Orono, ME', 'Morgantown, WV',\n",
       "       'Chester, PA', 'Kent, OH', 'Fargo, ND', 'Moon Township, PA',\n",
       "       'West Hartford, CT', 'Bowling Green, OH', 'Kalamazoo, MI',\n",
       "       'Indianapolis, IN', 'Huntsville, AL', 'Reno, NV', 'Fullerton, CA',\n",
       "       'Mount Pleasant, MI', 'Ruston, LA', 'Brookings, SD',\n",
       "       'Fairbanks, AK', 'Charlotte, NC', 'Grand Forks, ND',\n",
       "       'Vermillion, SD', 'Greenville, NC', 'Bozeman, MT', 'Norfolk, VA',\n",
       "       'Kansas City, MO', 'Ashland, OH', 'DeKalb, IL',\n",
       "       'Ft. Lauderdale, FL', 'Carbondale, IL', 'Missoula, MT',\n",
       "       'Lisle, IL', 'Fresno, CA', 'Boiling Springs, NC', 'Las Cruces, NM',\n",
       "       'Winchester, VA', 'Cookeville, TN', 'North Dartmouth, MA',\n",
       "       'Greensboro, NC', 'Hattiesburg, MS', 'Logan, UT'], dtype=object)"
      ]
     },
     "execution_count": 8,
     "metadata": {},
     "output_type": "execute_result"
    }
   ],
   "source": [
    "readfile['Location'].unique()"
   ]
  },
  {
   "cell_type": "code",
   "execution_count": 11,
   "id": "29975efd-e03d-4380-a8e3-d4273846786a",
   "metadata": {},
   "outputs": [
    {
     "name": "stdout",
     "output_type": "stream",
     "text": [
      "Requirement already satisfied: seaborn in /home/codespace/.local/lib/python3.10/site-packages (0.12.1)\n",
      "Requirement already satisfied: matplotlib!=3.6.1,>=3.1 in /home/codespace/.local/lib/python3.10/site-packages (from seaborn) (3.6.2)\n",
      "Requirement already satisfied: numpy>=1.17 in /home/codespace/.local/lib/python3.10/site-packages (from seaborn) (1.24.0)\n",
      "Requirement already satisfied: pandas>=0.25 in /home/codespace/.local/lib/python3.10/site-packages (from seaborn) (1.5.2)\n",
      "Requirement already satisfied: fonttools>=4.22.0 in /home/codespace/.local/lib/python3.10/site-packages (from matplotlib!=3.6.1,>=3.1->seaborn) (4.38.0)\n",
      "Requirement already satisfied: python-dateutil>=2.7 in /home/codespace/.local/lib/python3.10/site-packages (from matplotlib!=3.6.1,>=3.1->seaborn) (2.8.2)\n",
      "Requirement already satisfied: pyparsing>=2.2.1 in /home/codespace/.local/lib/python3.10/site-packages (from matplotlib!=3.6.1,>=3.1->seaborn) (3.0.9)\n",
      "Requirement already satisfied: kiwisolver>=1.0.1 in /home/codespace/.local/lib/python3.10/site-packages (from matplotlib!=3.6.1,>=3.1->seaborn) (1.4.4)\n",
      "Requirement already satisfied: pillow>=6.2.0 in /home/codespace/.local/lib/python3.10/site-packages (from matplotlib!=3.6.1,>=3.1->seaborn) (9.3.0)\n",
      "Requirement already satisfied: packaging>=20.0 in /home/codespace/.local/lib/python3.10/site-packages (from matplotlib!=3.6.1,>=3.1->seaborn) (22.0)\n",
      "Requirement already satisfied: contourpy>=1.0.1 in /home/codespace/.local/lib/python3.10/site-packages (from matplotlib!=3.6.1,>=3.1->seaborn) (1.0.6)\n",
      "Requirement already satisfied: cycler>=0.10 in /home/codespace/.local/lib/python3.10/site-packages (from matplotlib!=3.6.1,>=3.1->seaborn) (0.11.0)\n",
      "Requirement already satisfied: pytz>=2020.1 in /home/codespace/.local/lib/python3.10/site-packages (from pandas>=0.25->seaborn) (2022.7)\n",
      "Requirement already satisfied: six>=1.5 in /home/codespace/.local/lib/python3.10/site-packages (from python-dateutil>=2.7->matplotlib!=3.6.1,>=3.1->seaborn) (1.16.0)\n"
     ]
    }
   ],
   "source": [
    "!pip install seaborn"
   ]
  },
  {
   "cell_type": "code",
   "execution_count": 3,
   "id": "ad2abd6f-c136-474f-97d1-50cd7c57cba6",
   "metadata": {},
   "outputs": [],
   "source": [
    "import seaborn as sns\n",
    "import matplotlib.pyplot as plt"
   ]
  },
  {
   "cell_type": "code",
   "execution_count": 4,
   "id": "dbcfe331-b1b8-4f6f-9a00-53e4af2f99e4",
   "metadata": {},
   "outputs": [
    {
     "data": {
      "image/png": "[encoded data removed]",
      "text/plain": [
       "<Figure size 640x480 with 1 Axes>"
      ]
     },
     "metadata": {},
     "output_type": "display_data"
    }
   ],
   "source": [
    "res = sns.barplot(readfile['Rank'])\n",
    "plt.show()"
   ]
  },
  {
   "cell_type": "code",
   "execution_count": 7,
   "id": "84389eec-86ba-4e98-9ced-1739e9b56fbb",
   "metadata": {},
   "outputs": [
    {
     "data": {
      "text/plain": [
       "<AxesSubplot: ylabel='count'>"
      ]
     },
     "execution_count": 7,
     "metadata": {},
     "output_type": "execute_result"
    },
    {
     "data": {
      "image/png": "[encoded data removed]",
      "text/plain": [
       "<Figure size 640x480 with 1 Axes>"
      ]
     },
     "metadata": {},
     "output_type": "display_data"
    }
   ],
   "source": [
    "sns.countplot(readfile['Rank'])"
   ]
  },
  {
   "cell_type": "code",
   "execution_count": 8,
   "id": "3f8e8bcb-7492-400a-9aef-6693fdc864b3",
   "metadata": {},
   "outputs": [
    {
     "data": {
      "text/plain": [
       "index                    0\n",
       "Name                     0\n",
       "Location                 0\n",
       "Rank                     0\n",
       "Description              0\n",
       "Tuition and fees         0\n",
       "In-state                98\n",
       "Undergrad Enrollment     0\n",
       "dtype: int64"
      ]
     },
     "execution_count": 8,
     "metadata": {},
     "output_type": "execute_result"
    }
   ],
   "source": [
    "readfile.isnull().sum()"
   ]
  },
  {
   "cell_type": "code",
   "execution_count": 11,
   "id": "e9440b06-7c48-4716-85ef-1de40f78b784",
   "metadata": {},
   "outputs": [],
   "source": [
    "import numpy as np"
   ]
  },
  {
   "cell_type": "code",
   "execution_count": 12,
   "id": "68beabb1-210b-4104-be93-c9ec678812a7",
   "metadata": {},
   "outputs": [
    {
     "data": {
      "text/html": [
       "<div>\n",
       "<style scoped>\n",
       "    .dataframe tbody tr th:only-of-type {\n",
       "        vertical-align: middle;\n",
       "    }\n",
       "\n",
       "    .dataframe tbody tr th {\n",
       "        vertical-align: top;\n",
       "    }\n",
       "\n",
       "    .dataframe thead th {\n",
       "        text-align: right;\n",
       "    }\n",
       "</style>\n",
       "<table border=\"1\" class=\"dataframe\">\n",
       "  <thead>\n",
       "    <tr style=\"text-align: right;\">\n",
       "      <th></th>\n",
       "      <th>index</th>\n",
       "      <th>Name</th>\n",
       "      <th>Location</th>\n",
       "      <th>Rank</th>\n",
       "      <th>Description</th>\n",
       "      <th>Tuition and fees</th>\n",
       "      <th>In-state</th>\n",
       "      <th>Undergrad Enrollment</th>\n",
       "    </tr>\n",
       "  </thead>\n",
       "  <tbody>\n",
       "    <tr>\n",
       "      <th>0</th>\n",
       "      <td>0</td>\n",
       "      <td>Princeton University</td>\n",
       "      <td>Princeton, NJ</td>\n",
       "      <td>1</td>\n",
       "      <td>Princeton, the fourth-oldest college in the Un...</td>\n",
       "      <td>$45,320</td>\n",
       "      <td>0</td>\n",
       "      <td>5,402</td>\n",
       "    </tr>\n",
       "    <tr>\n",
       "      <th>1</th>\n",
       "      <td>1</td>\n",
       "      <td>Harvard University</td>\n",
       "      <td>Cambridge, MA</td>\n",
       "      <td>2</td>\n",
       "      <td>Harvard is located in Cambridge, Massachusetts...</td>\n",
       "      <td>$47,074</td>\n",
       "      <td>0</td>\n",
       "      <td>6,699</td>\n",
       "    </tr>\n",
       "    <tr>\n",
       "      <th>2</th>\n",
       "      <td>2</td>\n",
       "      <td>University of Chicago</td>\n",
       "      <td>Chicago, IL</td>\n",
       "      <td>3</td>\n",
       "      <td>The University of Chicago, situated in Chicago...</td>\n",
       "      <td>$52,491</td>\n",
       "      <td>0</td>\n",
       "      <td>5,844</td>\n",
       "    </tr>\n",
       "    <tr>\n",
       "      <th>3</th>\n",
       "      <td>3</td>\n",
       "      <td>Yale University</td>\n",
       "      <td>New Haven, CT</td>\n",
       "      <td>3</td>\n",
       "      <td>Yale University, located in New Haven, Connect...</td>\n",
       "      <td>$49,480</td>\n",
       "      <td>0</td>\n",
       "      <td>5,532</td>\n",
       "    </tr>\n",
       "    <tr>\n",
       "      <th>4</th>\n",
       "      <td>4</td>\n",
       "      <td>Columbia University</td>\n",
       "      <td>New York, NY</td>\n",
       "      <td>5</td>\n",
       "      <td>Columbia University, located in Manhattan's Mo...</td>\n",
       "      <td>$55,056</td>\n",
       "      <td>0</td>\n",
       "      <td>6,102</td>\n",
       "    </tr>\n",
       "    <tr>\n",
       "      <th>...</th>\n",
       "      <td>...</td>\n",
       "      <td>...</td>\n",
       "      <td>...</td>\n",
       "      <td>...</td>\n",
       "      <td>...</td>\n",
       "      <td>...</td>\n",
       "      <td>...</td>\n",
       "      <td>...</td>\n",
       "    </tr>\n",
       "    <tr>\n",
       "      <th>226</th>\n",
       "      <td>226</td>\n",
       "      <td>University of Massachusetts--Dartmouth</td>\n",
       "      <td>North Dartmouth, MA</td>\n",
       "      <td>220</td>\n",
       "      <td>Located about 60 miles south of Boston, the Un...</td>\n",
       "      <td>$19,270</td>\n",
       "      <td>$12,588</td>\n",
       "      <td>7,295</td>\n",
       "    </tr>\n",
       "    <tr>\n",
       "      <th>227</th>\n",
       "      <td>227</td>\n",
       "      <td>University of Missouri--St. Louis</td>\n",
       "      <td>St. Louis, MO</td>\n",
       "      <td>220</td>\n",
       "      <td>Undergraduates at University of Missouri--St. ...</td>\n",
       "      <td>$26,277</td>\n",
       "      <td>$10,065</td>\n",
       "      <td>13,569</td>\n",
       "    </tr>\n",
       "    <tr>\n",
       "      <th>228</th>\n",
       "      <td>228</td>\n",
       "      <td>University of North Carolina--Greensboro</td>\n",
       "      <td>Greensboro, NC</td>\n",
       "      <td>220</td>\n",
       "      <td>University of North Carolina--Greensboro is lo...</td>\n",
       "      <td>$21,595</td>\n",
       "      <td>$6,733</td>\n",
       "      <td>15,951</td>\n",
       "    </tr>\n",
       "    <tr>\n",
       "      <th>229</th>\n",
       "      <td>229</td>\n",
       "      <td>University of Southern Mississippi</td>\n",
       "      <td>Hattiesburg, MS</td>\n",
       "      <td>220</td>\n",
       "      <td>The University of Southern Mississippi has two...</td>\n",
       "      <td>$16,094</td>\n",
       "      <td>$7,224</td>\n",
       "      <td>11,840</td>\n",
       "    </tr>\n",
       "    <tr>\n",
       "      <th>230</th>\n",
       "      <td>230</td>\n",
       "      <td>Utah State University</td>\n",
       "      <td>Logan, UT</td>\n",
       "      <td>220</td>\n",
       "      <td>Founded in 1888, Utah State University is a pu...</td>\n",
       "      <td>$19,772</td>\n",
       "      <td>$6,866</td>\n",
       "      <td>25,259</td>\n",
       "    </tr>\n",
       "  </tbody>\n",
       "</table>\n",
       "<p>231 rows × 8 columns</p>\n",
       "</div>"
      ],
      "text/plain": [
       "     index                                      Name             Location  \\\n",
       "0        0                      Princeton University        Princeton, NJ   \n",
       "1        1                        Harvard University        Cambridge, MA   \n",
       "2        2                     University of Chicago          Chicago, IL   \n",
       "3        3                           Yale University        New Haven, CT   \n",
       "4        4                       Columbia University         New York, NY   \n",
       "..     ...                                       ...                  ...   \n",
       "226    226    University of Massachusetts--Dartmouth  North Dartmouth, MA   \n",
       "227    227         University of Missouri--St. Louis        St. Louis, MO   \n",
       "228    228  University of North Carolina--Greensboro       Greensboro, NC   \n",
       "229    229        University of Southern Mississippi      Hattiesburg, MS   \n",
       "230    230                     Utah State University            Logan, UT   \n",
       "\n",
       "     Rank                                        Description Tuition and fees  \\\n",
       "0       1  Princeton, the fourth-oldest college in the Un...         $45,320    \n",
       "1       2  Harvard is located in Cambridge, Massachusetts...         $47,074    \n",
       "2       3  The University of Chicago, situated in Chicago...         $52,491    \n",
       "3       3  Yale University, located in New Haven, Connect...         $49,480    \n",
       "4       5  Columbia University, located in Manhattan's Mo...         $55,056    \n",
       "..    ...                                                ...              ...   \n",
       "226   220  Located about 60 miles south of Boston, the Un...         $19,270    \n",
       "227   220  Undergraduates at University of Missouri--St. ...         $26,277    \n",
       "228   220  University of North Carolina--Greensboro is lo...         $21,595    \n",
       "229   220  The University of Southern Mississippi has two...         $16,094    \n",
       "230   220  Founded in 1888, Utah State University is a pu...         $19,772    \n",
       "\n",
       "     In-state Undergrad Enrollment  \n",
       "0           0                5,402  \n",
       "1           0                6,699  \n",
       "2           0                5,844  \n",
       "3           0                5,532  \n",
       "4           0                6,102  \n",
       "..        ...                  ...  \n",
       "226  $12,588                 7,295  \n",
       "227  $10,065                13,569  \n",
       "228   $6,733                15,951  \n",
       "229   $7,224                11,840  \n",
       "230   $6,866                25,259  \n",
       "\n",
       "[231 rows x 8 columns]"
      ]
     },
     "execution_count": 12,
     "metadata": {},
     "output_type": "execute_result"
    }
   ],
   "source": [
    "readfile.replace(np.nan,0)"
   ]
  },
  {
   "cell_type": "code",
   "execution_count": 13,
   "id": "cd2fbf5d-600d-4b7d-ba7f-04ab04daffc2",
   "metadata": {},
   "outputs": [
    {
     "data": {
      "text/plain": [
       "index                    int64\n",
       "Name                    object\n",
       "Location                object\n",
       "Rank                     int64\n",
       "Description             object\n",
       "Tuition and fees        object\n",
       "In-state                object\n",
       "Undergrad Enrollment    object\n",
       "dtype: object"
      ]
     },
     "execution_count": 13,
     "metadata": {},
     "output_type": "execute_result"
    }
   ],
   "source": [
    "readfile.dtypes\n"
   ]
  },
  {
   "cell_type": "code",
   "execution_count": 22,
   "id": "cd7383fc-ff61-4944-8302-193ade69e8ef",
   "metadata": {},
   "outputs": [
    {
     "data": {
      "image/png": "[encoded data removed]",
      "text/plain": [
       "<Figure size 640x480 with 1 Axes>"
      ]
     },
     "metadata": {},
     "output_type": "display_data"
    }
   ],
   "source": [
    "readfile[[\"Rank\"]].boxplot()\n",
    "plt.show()"
   ]
  },
  {
   "cell_type": "code",
   "execution_count": 24,
   "id": "d11e8123-f601-4d57-b425-0ed8dc2386c2",
   "metadata": {},
   "outputs": [
    {
     "name": "stderr",
     "output_type": "stream",
     "text": [
      "/tmp/ipykernel_19256/2693593530.py:1: FutureWarning: The default value of numeric_only in DataFrame.corr is deprecated. In a future version, it will default to False. Select only valid columns or specify the value of numeric_only to silence this warning.\n",
      "  readfile.corr()\n"
     ]
    },
    {
     "data": {
      "text/html": [
       "<div>\n",
       "<style scoped>\n",
       "    .dataframe tbody tr th:only-of-type {\n",
       "        vertical-align: middle;\n",
       "    }\n",
       "\n",
       "    .dataframe tbody tr th {\n",
       "        vertical-align: top;\n",
       "    }\n",
       "\n",
       "    .dataframe thead th {\n",
       "        text-align: right;\n",
       "    }\n",
       "</style>\n",
       "<table border=\"1\" class=\"dataframe\">\n",
       "  <thead>\n",
       "    <tr style=\"text-align: right;\">\n",
       "      <th></th>\n",
       "      <th>index</th>\n",
       "      <th>Rank</th>\n",
       "    </tr>\n",
       "  </thead>\n",
       "  <tbody>\n",
       "    <tr>\n",
       "      <th>index</th>\n",
       "      <td>1.000000</td>\n",
       "      <td>0.999617</td>\n",
       "    </tr>\n",
       "    <tr>\n",
       "      <th>Rank</th>\n",
       "      <td>0.999617</td>\n",
       "      <td>1.000000</td>\n",
       "    </tr>\n",
       "  </tbody>\n",
       "</table>\n",
       "</div>"
      ],
      "text/plain": [
       "          index      Rank\n",
       "index  1.000000  0.999617\n",
       "Rank   0.999617  1.000000"
      ]
     },
     "execution_count": 24,
     "metadata": {},
     "output_type": "execute_result"
    }
   ],
   "source": [
    "readfile.corr()"
   ]
  },
  {
   "cell_type": "code",
   "execution_count": 25,
   "id": "a1be1abd-ca0c-4e8d-97d2-2484d9a7079f",
   "metadata": {},
   "outputs": [
    {
     "ename": "AttributeError",
     "evalue": "module 'seaborn' has no attribute 'heapmap'",
     "output_type": "error",
     "traceback": [
      "\u001b[0;31m---------------------------------------------------------------------------\u001b[0m",
      "\u001b[0;31mAttributeError\u001b[0m                            Traceback (most recent call last)",
      "Cell \u001b[0;32mIn[25], line 1\u001b[0m\n\u001b[0;32m----> 1\u001b[0m \u001b[43msns\u001b[49m\u001b[38;5;241;43m.\u001b[39;49m\u001b[43mheapmap\u001b[49m(readfile\u001b[38;5;241m.\u001b[39mcorr())\n",
      "\u001b[0;31mAttributeError\u001b[0m: module 'seaborn' has no attribute 'heapmap'"
     ]
    }
   ],
   "source": [
    "sns.heapmap(readfile.corr())"
   ]
  },
  {
   "cell_type": "code",
   "execution_count": null,
   "id": "1dab1146-e36d-471b-8beb-b727e93b92f9",
   "metadata": {},
   "outputs": [],
   "source": []
  }
 ],
 "metadata": {
  "kernelspec": {
   "display_name": "Python 3 (ipykernel)",
   "language": "python",
   "name": "python3"
  },
  "language_info": {
   "codemirror_mode": {
    "name": "ipython",
    "version": 3
   },
   "file_extension": ".py",
   "mimetype": "text/x-python",
   "name": "python",
   "nbconvert_exporter": "python",
   "pygments_lexer": "ipython3",
   "version": "3.10.4"
  }
 },
 "nbformat": 4,
 "nbformat_minor": 5
}
